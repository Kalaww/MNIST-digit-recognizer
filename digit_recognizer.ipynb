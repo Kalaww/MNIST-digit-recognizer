{
 "cells": [
  {
   "cell_type": "markdown",
   "metadata": {
    "collapsed": true
   },
   "source": [
    "# Digit recognizer"
   ]
  },
  {
   "cell_type": "code",
   "execution_count": 3,
   "metadata": {
    "collapsed": false
   },
   "outputs": [
    {
     "name": "stderr",
     "output_type": "stream",
     "text": [
      "Using Theano backend.\n",
      "Using gpu device 0: GeForce GTX 850M (CNMeM is disabled, cuDNN 5105)\n",
      "/home/ursa/lib/anaconda2/envs/cv/lib/python2.7/site-packages/theano/sandbox/cuda/__init__.py:600: UserWarning: Your cuDNN version is more recent than the one Theano officially supports. If you see any problems, try updating Theano or downgrading cuDNN to version 5.\n",
      "  warnings.warn(warn)\n"
     ]
    }
   ],
   "source": [
    "import os\n",
    "import pandas\n",
    "import numpy as np\n",
    "\n",
    "from keras.models import Sequential\n",
    "from keras.layers.normalization import BatchNormalization\n",
    "from keras.layers.core import Dense, Flatten, Dropout\n",
    "from keras.layers.convolutional import Convolution2D, MaxPooling2D, ZeroPadding2D\n",
    "from keras.optimizers import Adam\n",
    "from keras.preprocessing.image import ImageDataGenerator\n",
    "\n",
    "import keras\n",
    "\n",
    "from matplotlib import pyplot as plt\n",
    "from PIL import Image"
   ]
  },
  {
   "cell_type": "code",
   "execution_count": 4,
   "metadata": {
    "collapsed": true
   },
   "outputs": [],
   "source": [
    "TRAIN_FILENAME = 'data/train.csv'\n",
    "TEST_FILENAME = 'data/test.csv'"
   ]
  },
  {
   "cell_type": "markdown",
   "metadata": {},
   "source": [
    "# Read train csv"
   ]
  },
  {
   "cell_type": "code",
   "execution_count": 5,
   "metadata": {
    "collapsed": false
   },
   "outputs": [],
   "source": [
    "train = pandas.read_csv(TRAIN_FILENAME).values\n",
    "test = pandas.read_csv(TEST_FILENAME).values"
   ]
  },
  {
   "cell_type": "code",
   "execution_count": 6,
   "metadata": {
    "collapsed": true
   },
   "outputs": [],
   "source": [
    "img_shape = (1, 28, 28)\n",
    "X_train = train[:, 1:].reshape(train.shape[0], 1, 28, 28)\n",
    "Y_train = keras.utils.np_utils.to_categorical(train[:, 0], 10)\n",
    "X_test = test.reshape(test.shape[0], 1, 28, 28)"
   ]
  },
  {
   "cell_type": "code",
   "execution_count": 7,
   "metadata": {
    "collapsed": true
   },
   "outputs": [],
   "source": [
    "X_train = X_train.astype('float32')\n",
    "X_train /= 255\n",
    "\n",
    "X_test = X_test.astype('float32')\n",
    "X_test /= 255"
   ]
  },
  {
   "cell_type": "code",
   "execution_count": 8,
   "metadata": {
    "collapsed": true
   },
   "outputs": [],
   "source": [
    "split_size = int(X_train.shape[0] * 0.9)\n",
    "X_train, X_valid = X_train[:split_size], X_train[split_size:]\n",
    "Y_train, Y_valid = Y_train[:split_size], Y_train[split_size:]"
   ]
  },
  {
   "cell_type": "code",
   "execution_count": 9,
   "metadata": {
    "collapsed": false
   },
   "outputs": [
    {
     "name": "stdout",
     "output_type": "stream",
     "text": [
      "X_train shape: (37800, 1, 28, 28)\n",
      "Y_train shape: (37800, 10)\n",
      "\n",
      "X_valid shape: (4200, 1, 28, 28)\n",
      "Y_valid shape: (4200, 10)\n",
      "\n",
      "X_test shape: (28000, 1, 28, 28)\n"
     ]
    }
   ],
   "source": [
    "print('X_train shape: {}'.format(X_train.shape))\n",
    "print('Y_train shape: {}\\n'.format(Y_train.shape))\n",
    "\n",
    "print('X_valid shape: {}'.format(X_valid.shape))\n",
    "print('Y_valid shape: {}\\n'.format(Y_valid.shape))\n",
    "\n",
    "print('X_test shape: {}'.format(X_test.shape))"
   ]
  },
  {
   "cell_type": "markdown",
   "metadata": {},
   "source": [
    "# Data augmentation"
   ]
  },
  {
   "cell_type": "code",
   "execution_count": 10,
   "metadata": {
    "collapsed": true
   },
   "outputs": [],
   "source": [
    "datagen_train = ImageDataGenerator(\n",
    "    rotation_range=20,\n",
    "    width_shift_range=0.15,\n",
    "    height_shift_range=0.15\n",
    ")\n",
    "datagen_valid = ImageDataGenerator(\n",
    "    rotation_range=20,\n",
    "    width_shift_range=0.15,\n",
    "    height_shift_range=0.15\n",
    ")"
   ]
  },
  {
   "cell_type": "code",
   "execution_count": 11,
   "metadata": {
    "collapsed": true
   },
   "outputs": [],
   "source": [
    "datagen_train.fit(X_train)\n",
    "datagen_valid.fit(X_valid)"
   ]
  },
  {
   "cell_type": "markdown",
   "metadata": {},
   "source": [
    "# Model"
   ]
  },
  {
   "cell_type": "code",
   "execution_count": 12,
   "metadata": {
    "collapsed": false
   },
   "outputs": [],
   "source": [
    "model = Sequential()\n",
    "\n",
    "model.add(BatchNormalization(axis=1, input_shape=img_shape))\n",
    "\n",
    "model.add(Convolution2D(32,5,5, activation='relu'))\n",
    "model.add(MaxPooling2D((2,2)))\n",
    "\n",
    "model.add(Convolution2D(64,5,5, activation='relu'))\n",
    "model.add(MaxPooling2D((2,2)))\n",
    "\n",
    "model.add(Convolution2D(128,4,4, activation='relu'))\n",
    "\n",
    "model.add(Flatten())\n",
    "model.add(Dense(200, activation='relu'))\n",
    "model.add(BatchNormalization(axis=1))\n",
    "model.add(Dropout(0.5))\n",
    "model.add(Dense(100, activation='relu'))\n",
    "model.add(BatchNormalization(axis=1))\n",
    "model.add(Dropout(0.5))\n",
    "model.add(Dense(10, activation='softmax'))"
   ]
  },
  {
   "cell_type": "code",
   "execution_count": 13,
   "metadata": {
    "collapsed": true
   },
   "outputs": [],
   "source": [
    "n_epoch = 500\n",
    "val_split = 0.1\n",
    "batch_size = 16"
   ]
  },
  {
   "cell_type": "code",
   "execution_count": null,
   "metadata": {
    "collapsed": true
   },
   "outputs": [],
   "source": [
    "model.compile(\n",
    "    \"adamax\",\n",
    "    loss='categorical_crossentropy',\n",
    "    metrics=['accuracy']\n",
    ")"
   ]
  },
  {
   "cell_type": "code",
   "execution_count": null,
   "metadata": {
    "collapsed": false
   },
   "outputs": [
    {
     "name": "stdout",
     "output_type": "stream",
     "text": [
      "Epoch 1/500\n",
      "37800/37800 [==============================] - 27s - loss: 1.0616 - acc: 0.6620 - val_loss: 0.3046 - val_acc: 0.9074\n",
      "Epoch 2/500\n",
      "34768/37800 [==========================>...] - ETA: 2s - loss: 0.3822 - acc: 0.8846"
     ]
    }
   ],
   "source": [
    "model.fit_generator(\n",
    "    datagen_train.flow(X_train, Y_train, batch_size=batch_size),\n",
    "    samples_per_epoch=len(X_train),\n",
    "    nb_epoch=n_epoch,\n",
    "    validation_data=datagen_valid.flow(X_valid, Y_valid, batch_size=batch_size),\n",
    "    nb_val_samples=len(X_valid)\n",
    ")"
   ]
  },
  {
   "cell_type": "code",
   "execution_count": null,
   "metadata": {
    "collapsed": false
   },
   "outputs": [],
   "source": [
    "model.summary()"
   ]
  },
  {
   "cell_type": "markdown",
   "metadata": {
    "collapsed": true
   },
   "source": [
    "# Predict test"
   ]
  },
  {
   "cell_type": "code",
   "execution_count": null,
   "metadata": {
    "collapsed": false
   },
   "outputs": [],
   "source": [
    "preds = model.predict_classes(X_test)"
   ]
  },
  {
   "cell_type": "code",
   "execution_count": null,
   "metadata": {
    "collapsed": false
   },
   "outputs": [],
   "source": [
    "np.savetxt(\n",
    "    'pred.csv',\n",
    "    np.c_[range(1, len(preds)+1), preds],\n",
    "    delimiter=',',\n",
    "    header='ImageId,Label',\n",
    "    comments='',\n",
    "    fmt='%d'\n",
    ")"
   ]
  },
  {
   "cell_type": "markdown",
   "metadata": {},
   "source": [
    "# Results"
   ]
  },
  {
   "cell_type": "markdown",
   "metadata": {},
   "source": [
    "loss: 0.0086 - acc: 0.9975 - val_loss: 0.0509 - val_acc: 0.9914\n",
    "\n",
    "http://pastebin.com/ec1Hn68B"
   ]
  },
  {
   "cell_type": "markdown",
   "metadata": {},
   "source": [
    "loss: 0.0024 - acc: 0.9992 - val_loss: 0.0392 - val_acc: 0.9938\n",
    "- Optimizer adam -> adamax\n",
    "- Conv2D: number of filters x2\n",
    "\n",
    "http://pastebin.com/p9AWwyUn"
   ]
  },
  {
   "cell_type": "markdown",
   "metadata": {},
   "source": [
    "loss: 0.0307 - acc: 0.9919 - val_loss: 0.0345 - val_acc: 0.9924\n",
    "\n",
    "- Data augmentation : rotation 20, w 0.15 h 0.15\n",
    "\n",
    "http://pastebin.com/iY61hYHm"
   ]
  },
  {
   "cell_type": "markdown",
   "metadata": {},
   "source": [
    "loss: 0.0350 - acc: 0.9913 - val_loss: 0.0374 - val_acc: 0.9900\n",
    "- change Conv2D layers\n",
    "\n",
    "http://pastebin.com/vPrhQmri"
   ]
  }
 ],
 "metadata": {
  "anaconda-cloud": {},
  "kernelspec": {
   "display_name": "Python [default]",
   "language": "python",
   "name": "python2"
  },
  "language_info": {
   "codemirror_mode": {
    "name": "ipython",
    "version": 2
   },
   "file_extension": ".py",
   "mimetype": "text/x-python",
   "name": "python",
   "nbconvert_exporter": "python",
   "pygments_lexer": "ipython2",
   "version": "2.7.12"
  }
 },
 "nbformat": 4,
 "nbformat_minor": 2
}
